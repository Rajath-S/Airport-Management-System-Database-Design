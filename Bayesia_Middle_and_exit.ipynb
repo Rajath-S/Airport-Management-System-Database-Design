{
  "nbformat": 4,
  "nbformat_minor": 0,
  "metadata": {
    "colab": {
      "name": "Middle_and_exit_Bayesian.ipynb",
      "version": "0.3.2",
      "provenance": [],
      "collapsed_sections": [],
      "include_colab_link": true
    },
    "kernelspec": {
      "name": "python3",
      "display_name": "Python 3"
    }
  },
  "cells": [
    {
      "cell_type": "markdown",
      "metadata": {
        "id": "view-in-github",
        "colab_type": "text"
      },
      "source": [
        "<a href=\"https://colab.research.google.com/github/Rajath-S/Airport-Management-System-Database-Design/blob/master/Bayesia_Middle_and_exit.ipynb\" target=\"_parent\"><img src=\"https://colab.research.google.com/assets/colab-badge.svg\" alt=\"Open In Colab\"/></a>"
      ]
    },
    {
      "metadata": {
        "id": "CBk3B-Vx4pKg",
        "colab_type": "code",
        "colab": {}
      },
      "cell_type": "code",
      "source": [
        "import numpy as np\n",
        "from keras import layers\n",
        "from keras.models import Model\n",
        "from keras.preprocessing import image\n",
        "from keras.datasets import cifar10\n",
        "from keras.utils import to_categorical\n",
        "from keras import layers\n",
        "from keras.layers import Input, Dense, Activation, ZeroPadding2D, BatchNormalization, Flatten, Conv2D\n",
        "from keras.layers import MaxPooling2D, Dropout , Concatenate ,GlobalAveragePooling2D\n",
        "from keras.models import Model\n",
        "from keras.utils import np_utils\n",
        "from keras.preprocessing import image\n",
        "from keras.layers import DepthwiseConv2D,SeparableConv2D"
      ],
      "execution_count": 0,
      "outputs": []
    },
    {
      "metadata": {
        "id": "grxCY1mT3pRY",
        "colab_type": "code",
        "colab": {}
      },
      "cell_type": "code",
      "source": [
        "def middleflow(X):\n",
        "  X1 = Activation('relu')(X)\n",
        "  X1= SeparableConv2D(728,(3,3))(X1)\n",
        "  \n",
        "  X1 = Activation('relu')(X1)\n",
        "  X1= SeparableConv2D(728,(3,3))(X1)\n",
        "  \n",
        "  X1 = Activation('relu')(X1)\n",
        "  X1= SeparableConv2D(728,(3,3))(X1)\n",
        "  \n",
        "  X2 = Concatenate([X,X1],axis=channel_axis)\n",
        "  # add dropout and repeat this block 3 more times\n",
        "  \n",
        "def exitflow(X):\n",
        "    X = Conv2D(1024,(3,3),strides=(2,2))(X_input)\n",
        "    X = BatchNormalization(axis=-1)(X)\n",
        "    X = Activation('relu')(X)\n",
        "    \n",
        "    X1 = Activation('relu')(X)\n",
        "    X1= SeparableConv2D(728,(3,3))(X1)\n",
        "    \n",
        "    X1 = Activation('relu')(X1)\n",
        "    X1= SeparableConv2D(1024,(3,3))(X1)\n",
        "    \n",
        "    X1 = Activation('relu')(X1)\n",
        "    X1= SeparableConv2D(1024,(3,3))(X1)\n",
        "    \n",
        "    X2 = Concatenate([X,X1],axis=channel_axis)\n",
        "    \n",
        "    X2 = Activation('relu')(X)\n",
        "    X2= SeparableConv2D(1536,(3,3))(X2)\n",
        "    X2 = Activation('relu')(X)\n",
        "    X2= SeparableConv2D(1536,(3,3))(X2)\n",
        "    X2 = Activation('relu')(X)\n",
        "    X2= SeparableConv2D(2648,(3,3))(X2)\n",
        "    \n",
        "    return X2"
      ],
      "execution_count": 0,
      "outputs": []
    }
  ]
}