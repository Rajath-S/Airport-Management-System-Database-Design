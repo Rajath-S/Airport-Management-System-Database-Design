{
  "nbformat": 4,
  "nbformat_minor": 0,
  "metadata": {
    "colab": {
      "name": "GNB_LBW_final.ipynb",
      "provenance": [],
      "include_colab_link": true
    },
    "kernelspec": {
      "name": "python3",
      "display_name": "Python 3"
    }
  },
  "cells": [
    {
      "cell_type": "markdown",
      "metadata": {
        "id": "view-in-github",
        "colab_type": "text"
      },
      "source": [
        "<a href=\"https://colab.research.google.com/github/Rajath-S/Airport-Management-System-Database-Design/blob/master/GNB_LBW_final.ipynb\" target=\"_parent\"><img src=\"https://colab.research.google.com/assets/colab-badge.svg\" alt=\"Open In Colab\"/></a>"
      ]
    },
    {
      "cell_type": "markdown",
      "metadata": {
        "id": "yIDefgZlwaRi",
        "colab_type": "text"
      },
      "source": [
        "Gaussian Naive Bayes implementation on Low Birth Weight Data Set"
      ]
    },
    {
      "cell_type": "code",
      "metadata": {
        "id": "lTMmX9SEczYV",
        "colab_type": "code",
        "colab": {}
      },
      "source": [
        "import matplotlib.pyplot as plt\n",
        "from matplotlib import style\n",
        "import numpy as np\n",
        "style.use('ggplot')\n",
        "import pandas as pd"
      ],
      "execution_count": 0,
      "outputs": []
    },
    {
      "cell_type": "markdown",
      "metadata": {
        "id": "KoMDV4qUu0Mj",
        "colab_type": "text"
      },
      "source": [
        "Take input from the dataset"
      ]
    },
    {
      "cell_type": "code",
      "metadata": {
        "id": "uzplmYbJNWVo",
        "colab_type": "code",
        "colab": {}
      },
      "source": [
        "lbw=pd.read_csv('part_1_0.csv')"
      ],
      "execution_count": 0,
      "outputs": []
    },
    {
      "cell_type": "code",
      "metadata": {
        "id": "PtMXoBpNsYJZ",
        "colab_type": "code",
        "outputId": "8280c270-a880-4329-e961-287d66efaab9",
        "colab": {
          "base_uri": "https://localhost:8080/",
          "height": 251
        }
      },
      "source": [
        "print(lbw)"
      ],
      "execution_count": 97,
      "outputs": [
        {
          "output_type": "stream",
          "text": [
            "     community  age  weight  history   Hb  IFA        BP  res  reslt\n",
            "0            1   26      37        1  5.9    1  1.444444    1      0\n",
            "1            1   21      42        1  9.2    1  1.375000    1      0\n",
            "2            1   21      36        1  8.8    1  1.500000    1      0\n",
            "3            1   21      36        1  9.2    1  2.125000    1      0\n",
            "4            1   21      36        1  8.0    1  1.375000    1      0\n",
            "..         ...  ...     ...      ...  ...  ...       ...  ...    ...\n",
            "96           3   21      55        1  9.0    0  1.375000    1      1\n",
            "97           3   24      39        6  8.4    0  1.500000    1      1\n",
            "98           3   24      50        1  9.1    0  1.375000    1      1\n",
            "99           1   24      38        1  9.1    0  1.696758    1      1\n",
            "100          3   21      50        1  9.0    1  1.375000    1      1\n",
            "\n",
            "[101 rows x 9 columns]\n"
          ],
          "name": "stdout"
        }
      ]
    },
    {
      "cell_type": "markdown",
      "metadata": {
        "id": "cVBbv96wu54N",
        "colab_type": "text"
      },
      "source": [
        "Drop columns like history which have zero variance"
      ]
    },
    {
      "cell_type": "code",
      "metadata": {
        "id": "mbmpgtgVHxLU",
        "colab_type": "code",
        "colab": {}
      },
      "source": [
        "X = lbw.drop(\"reslt\", axis=1)\n",
        "X=X.drop(\"history\",axis=1) #this gives variance zero, so better drop this\n",
        "\n",
        "y = lbw[\"reslt\"]"
      ],
      "execution_count": 0,
      "outputs": []
    },
    {
      "cell_type": "markdown",
      "metadata": {
        "id": "VTmSp59zwSRu",
        "colab_type": "text"
      },
      "source": [
        "Normalize Data before its fed into the model"
      ]
    },
    {
      "cell_type": "code",
      "metadata": {
        "id": "kxyoz7rVxWBE",
        "colab_type": "code",
        "colab": {}
      },
      "source": [
        "import pandas as pd\n",
        "from sklearn import preprocessing\n",
        "#normalize\n",
        "x =X \n",
        "min_max_scaler = preprocessing.MinMaxScaler()\n",
        "x_scaled = min_max_scaler.fit_transform(x)\n",
        "X= pd.DataFrame(x_scaled)"
      ],
      "execution_count": 0,
      "outputs": []
    },
    {
      "cell_type": "code",
      "metadata": {
        "id": "Kd5wXJT7KX1B",
        "colab_type": "code",
        "colab": {}
      },
      "source": [
        ""
      ],
      "execution_count": 0,
      "outputs": []
    },
    {
      "cell_type": "code",
      "metadata": {
        "id": "Os0V5cP1xV_E",
        "colab_type": "code",
        "colab": {}
      },
      "source": [
        "from sklearn.model_selection import train_test_split\n",
        "X_train, X_test, y_train, y_test = train_test_split(X, y, test_size = 0.10, random_state=10)\n",
        "# Good seed values - 10\n"
      ],
      "execution_count": 0,
      "outputs": []
    },
    {
      "cell_type": "code",
      "metadata": {
        "id": "8XdeDAoccSWA",
        "colab_type": "code",
        "outputId": "2e059d4c-9fa0-4eda-c30d-d055f0b18568",
        "colab": {
          "base_uri": "https://localhost:8080/",
          "height": 251
        }
      },
      "source": [
        "print(\"X_train\",X_train)"
      ],
      "execution_count": 101,
      "outputs": [
        {
          "output_type": "stream",
          "text": [
            "X_train            0         1         2         3    4         5    6\n",
            "2   0.000000  0.190476  0.171429  0.568627  1.0  0.023669  0.0\n",
            "1   0.000000  0.190476  0.342857  0.647059  1.0  0.013807  0.0\n",
            "42  0.000000  0.333333  0.257143  0.588235  1.0  0.013807  0.0\n",
            "61  0.000000  0.380952  0.285714  0.647059  1.0  0.013807  0.0\n",
            "44  0.000000  0.333333  0.285714  0.588235  1.0  0.040552  0.0\n",
            "..       ...       ...       ...       ...  ...       ...  ...\n",
            "89  0.000000  0.428571  0.400000  0.627451  0.0  0.039192  0.0\n",
            "28  0.000000  0.333333  0.285714  0.705882  1.0  0.040575  0.0\n",
            "64  1.000000  0.190476  0.857143  0.980392  0.0  0.013807  0.0\n",
            "15  0.666667  1.000000  0.085714  0.803922  0.0  0.029304  0.0\n",
            "9   0.000000  0.238095  0.000000  0.607843  1.0  0.042363  0.0\n",
            "\n",
            "[90 rows x 7 columns]\n"
          ],
          "name": "stdout"
        }
      ]
    },
    {
      "cell_type": "code",
      "metadata": {
        "id": "tmCUcOY42lnb",
        "colab_type": "code",
        "outputId": "119f58d4-b40d-4de7-93c8-e3caac6b2707",
        "colab": {
          "base_uri": "https://localhost:8080/",
          "height": 217
        }
      },
      "source": [
        "print(\"y_train\",y_train)"
      ],
      "execution_count": 102,
      "outputs": [
        {
          "output_type": "stream",
          "text": [
            "y_train 2     0\n",
            "1     0\n",
            "42    1\n",
            "61    1\n",
            "44    1\n",
            "     ..\n",
            "89    1\n",
            "28    1\n",
            "64    1\n",
            "15    0\n",
            "9     0\n",
            "Name: reslt, Length: 90, dtype: int64\n"
          ],
          "name": "stdout"
        }
      ]
    },
    {
      "cell_type": "markdown",
      "metadata": {
        "id": "VeP_pcSxXEkd",
        "colab_type": "text"
      },
      "source": [
        "Calculated Prior Probabilities for the classes"
      ]
    },
    {
      "cell_type": "code",
      "metadata": {
        "id": "I_pQVkKtO42-",
        "colab_type": "code",
        "outputId": "09d118a4-9cd6-4624-f629-f7baa6061e20",
        "colab": {
          "base_uri": "https://localhost:8080/",
          "height": 50
        }
      },
      "source": [
        "def get_count_unique_vals(labels):\n",
        "  return dict(labels.value_counts())\n",
        "\n",
        "\n",
        "def prior_prob(labels):\n",
        "    counts=get_count_unique_vals(labels)\n",
        "    number_of_instances=labels.count()\n",
        "    print(counts.items())\n",
        "    priors={(key,value/number_of_instances) for key, value in counts.items()}\n",
        "    return priors\n",
        "    \n",
        "priors=prior_prob(y_train)\n",
        "print(\"priors\",priors)"
      ],
      "execution_count": 103,
      "outputs": [
        {
          "output_type": "stream",
          "text": [
            "dict_items([(1, 67), (0, 23)])\n",
            "priors {(1, 0.7444444444444445), (0, 0.25555555555555554)}\n"
          ],
          "name": "stdout"
        }
      ]
    },
    {
      "cell_type": "markdown",
      "metadata": {
        "id": "R91AJaoAXa0Q",
        "colab_type": "text"
      },
      "source": [
        "Calculate Mean and Variance For all Features"
      ]
    },
    {
      "cell_type": "code",
      "metadata": {
        "id": "-SyWMW3CpDE-",
        "colab_type": "code",
        "colab": {}
      },
      "source": [
        "import math"
      ],
      "execution_count": 0,
      "outputs": []
    },
    {
      "cell_type": "code",
      "metadata": {
        "id": "MNgAy6HhXabn",
        "colab_type": "code",
        "colab": {}
      },
      "source": [
        "def calculate_mean(df):\n",
        "  return df.mean()\n",
        "def calculate_std_dev(df):\n",
        "  return df.std()\n",
        "\n",
        "def Calculate_Mean_and_Variance(X_train,y_train):\n",
        "  mean_and_variance_for_class={}\n",
        "  classes=y_train.unique()\n",
        "  for everyclass in classes:\n",
        "      filtered_training_set=X_train[(y_train==everyclass)]\n",
        "      mean_and_variance=dict()\n",
        "      for every_attribute in list(X_train.columns.values):\n",
        "          particular_attribute=filtered_training_set[every_attribute]\n",
        "          mean_and_variance[every_attribute]=[]\n",
        "          mean_for_this_attribute=calculate_mean(particular_attribute)\n",
        "          mean_and_variance[every_attribute].append(mean_for_this_attribute)\n",
        "          std_dev_for_this_attribute=calculate_std_dev(particular_attribute)\n",
        "          var_for_this_attribute=math.pow(std_dev_for_this_attribute,2)\n",
        "          mean_and_variance[every_attribute].append(var_for_this_attribute)\n",
        "      mean_and_variance_for_class[everyclass]=mean_and_variance\n",
        "  return mean_and_variance_for_class\n"
      ],
      "execution_count": 0,
      "outputs": []
    },
    {
      "cell_type": "markdown",
      "metadata": {
        "id": "frKwyn4WuRAn",
        "colab_type": "text"
      },
      "source": [
        "For every class and attribute, we keep track of mean and variance"
      ]
    },
    {
      "cell_type": "code",
      "metadata": {
        "id": "0pCphk6Fon5n",
        "colab_type": "code",
        "colab": {}
      },
      "source": [
        "dictionary=Calculate_Mean_and_Variance(X_train,y_train)"
      ],
      "execution_count": 0,
      "outputs": []
    },
    {
      "cell_type": "code",
      "metadata": {
        "id": "Ur3Fu6-UpIFb",
        "colab_type": "code",
        "outputId": "42c4a305-055a-4669-dedb-390b2a5d4cca",
        "colab": {
          "base_uri": "https://localhost:8080/",
          "height": 53
        }
      },
      "source": [
        "print(\"variance and mean for every class and attribute\",(dictionary))"
      ],
      "execution_count": 107,
      "outputs": [
        {
          "output_type": "stream",
          "text": [
            "variance and mean for every class and attribute {0: {0: [0.36231884057971014, 0.16073781291172598], 1: [0.34368530020703936, 0.04802237100373745], 2: [0.16770186335403722, 0.010337984996370089], 3: [0.6095481670929241, 0.03173300630800255], 4: [0.6086956521739131, 0.24901185770750983], 5: [0.04103152473715805, 0.004371592945846985], 6: [0.043478260869565216, 0.04347826086956522]}, 1: {0: [0.3930348258706469, 0.1579978893411729], 1: [0.31840796019900464, 0.015887374096329312], 2: [0.4737739872068229, 0.047400105225265124], 3: [0.6283289435177059, 0.01908861202359111], 4: [0.7611940298507462, 0.18453188602442347], 5: [0.04143100273896787, 0.014363824922731961], 6: [0.11940298507462686, 0.10673903211216655]}}\n"
          ],
          "name": "stdout"
        }
      ]
    },
    {
      "cell_type": "code",
      "metadata": {
        "id": "j6C8V5RRpONE",
        "colab_type": "code",
        "colab": {}
      },
      "source": [
        "import operator"
      ],
      "execution_count": 0,
      "outputs": []
    },
    {
      "cell_type": "markdown",
      "metadata": {
        "id": "xkKB0oIFsCuj",
        "colab_type": "text"
      },
      "source": [
        "NOW using PDF Equation  \n",
        "Given a feature"
      ]
    },
    {
      "cell_type": "code",
      "metadata": {
        "id": "Ajac95kCsUp3",
        "colab_type": "code",
        "colab": {}
      },
      "source": [
        "def calculate_probability(x, mean,variance):\n",
        "    return (1/(math.sqrt(2*math.pi*variance))) * math.exp(-(math.pow(x-mean,2)/(2*variance)))"
      ],
      "execution_count": 0,
      "outputs": []
    },
    {
      "cell_type": "code",
      "metadata": {
        "id": "OmBjCi4syqXU",
        "colab_type": "code",
        "colab": {}
      },
      "source": [
        "def predict(X_test,mean_variance):\n",
        "    predictions = {}\n",
        "    for index, row in X_test.iterrows():\n",
        "        results = {}\n",
        "        for k, v in priors:\n",
        "            p = 0 #probability of every feature\n",
        "            for feature in list(X_test.columns.values):\n",
        "                prob = calculate_probability(row[feature], mean_variance[\n",
        "                    k][feature][0], mean_variance[k][feature][1])\n",
        "                if prob > 0:\n",
        "                    p += math.log(prob)\n",
        "            results[k] = math.log(v) + p\n",
        "        predictions[index] = max(results.items(), key=operator.itemgetter(1))[0] # assign class that has maximum probability\n",
        "    return predictions"
      ],
      "execution_count": 0,
      "outputs": []
    },
    {
      "cell_type": "code",
      "metadata": {
        "id": "VLfTP26czo2t",
        "colab_type": "code",
        "colab": {}
      },
      "source": [
        "\n",
        "predictions=predict(X_test,dictionary)"
      ],
      "execution_count": 0,
      "outputs": []
    },
    {
      "cell_type": "code",
      "metadata": {
        "id": "Gx5hkrG2yQEy",
        "colab_type": "code",
        "outputId": "6f1723be-a694-4170-dcce-ae5921b22ba2",
        "colab": {
          "base_uri": "https://localhost:8080/",
          "height": 33
        }
      },
      "source": [
        "print(\"predictions for data in test set\",predictions)"
      ],
      "execution_count": 112,
      "outputs": [
        {
          "output_type": "stream",
          "text": [
            "predictions for data in test set {79: 1, 63: 1, 85: 1, 39: 1, 38: 1, 3: 0, 19: 0, 66: 1, 90: 1, 14: 1, 43: 1}\n"
          ],
          "name": "stdout"
        }
      ]
    },
    {
      "cell_type": "code",
      "metadata": {
        "id": "fUACTi0H5YpI",
        "colab_type": "code",
        "outputId": "da4d8c9e-9b95-4492-ecb3-caf611870767",
        "colab": {
          "base_uri": "https://localhost:8080/",
          "height": 33
        }
      },
      "source": [
        "def acc(y_test,prediction):\n",
        "  count=0\n",
        "  for ind,row in y_test.iteritems():\n",
        "    if row == prediction[ind]:\n",
        "      count+=1\n",
        "  return count/len(y_test)*100.0\n",
        "\n",
        "accuracy=acc(y_test,predictions)\n",
        "print(\"accuracy :\",accuracy)"
      ],
      "execution_count": 113,
      "outputs": [
        {
          "output_type": "stream",
          "text": [
            "accuracy : 90.9090909090909\n"
          ],
          "name": "stdout"
        }
      ]
    },
    {
      "cell_type": "code",
      "metadata": {
        "id": "iOJMpKWLl7vL",
        "colab_type": "code",
        "colab": {}
      },
      "source": [
        "#done"
      ],
      "execution_count": 0,
      "outputs": []
    },
    {
      "cell_type": "code",
      "metadata": {
        "id": "YsxI8wKqtucH",
        "colab_type": "code",
        "colab": {}
      },
      "source": [
        ""
      ],
      "execution_count": 0,
      "outputs": []
    }
  ]
}